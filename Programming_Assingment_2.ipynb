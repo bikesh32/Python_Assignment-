{
 "cells": [
  {
   "cell_type": "code",
   "execution_count": null,
   "id": "dc0d7e44",
   "metadata": {},
   "outputs": [],
   "source": [
    "1. Write a Python program to convert kilometers to miles?\n",
    "2. Write a Python program to convert Celsius to Fahrenheit?\n",
    "3. Write a Python program to display calendar?\n",
    "4. Write a Python program to solve quadratic equation?\n",
    "5. Write a Python program to swap two variables without temp variable?"
   ]
  },
  {
   "cell_type": "code",
   "execution_count": null,
   "id": "37531857",
   "metadata": {},
   "outputs": [],
   "source": [
    "## 1. Write a Python program to convert kilometers to miles?"
   ]
  },
  {
   "cell_type": "code",
   "execution_count": 3,
   "id": "9e0162b1",
   "metadata": {},
   "outputs": [
    {
     "name": "stdout",
     "output_type": "stream",
     "text": [
      "enter the kilometer 5\n",
      "The value of 5 kilometer in miles is 3.106855\n"
     ]
    }
   ],
   "source": [
    "a = int(input(\"enter the kilometer \"))\n",
    "b = a * 0.621371\n",
    "print(f'The value of {a} kilometer in miles is {b}')"
   ]
  },
  {
   "cell_type": "code",
   "execution_count": null,
   "id": "08134d6b",
   "metadata": {},
   "outputs": [],
   "source": [
    "## 2. Write a Python program to convert Celsius to Fahrenheit?"
   ]
  },
  {
   "cell_type": "code",
   "execution_count": 4,
   "id": "dad0ffa0",
   "metadata": {},
   "outputs": [
    {
     "name": "stdout",
     "output_type": "stream",
     "text": [
      "pls enter the values in celius0\n",
      "The conversion of 0 Celsius is Equivalent to 32.0 Fahrenheit\n"
     ]
    }
   ],
   "source": [
    "a = int(input(\"pls enter the values in celius\"))\n",
    "b = (a * 1.8) + 32\n",
    "print(f'The conversion of {a} Celsius is Equivalent to {b} Fahrenheit')"
   ]
  },
  {
   "cell_type": "code",
   "execution_count": 9,
   "id": "5ad9d06b",
   "metadata": {},
   "outputs": [
    {
     "name": "stdout",
     "output_type": "stream",
     "text": [
      "enter the year2022\n",
      "eneter the month12\n",
      "   December 2022\n",
      "Mo Tu We Th Fr Sa Su\n",
      "          1  2  3  4\n",
      " 5  6  7  8  9 10 11\n",
      "12 13 14 15 16 17 18\n",
      "19 20 21 22 23 24 25\n",
      "26 27 28 29 30 31\n",
      "\n"
     ]
    }
   ],
   "source": [
    "## 3. Write a Python program to display calendar?\n",
    "\n",
    "import calendar\n",
    "\n",
    "year = int(input(\"enter the year\"))\n",
    "mon = int(input(\"eneter the month\"))\n",
    "\n",
    "print(calendar.month(year,mon))"
   ]
  },
  {
   "cell_type": "code",
   "execution_count": null,
   "id": "894966b3",
   "metadata": {},
   "outputs": [],
   "source": [
    "## 4. Write a Python program to solve quadratic equation?"
   ]
  },
  {
   "cell_type": "code",
   "execution_count": 10,
   "id": "7b8d59ed",
   "metadata": {},
   "outputs": [],
   "source": [
    "import math"
   ]
  },
  {
   "cell_type": "code",
   "execution_count": 57,
   "id": "df4eaf1b",
   "metadata": {},
   "outputs": [],
   "source": [
    "def roots(a,b,c):\n",
    "    \n",
    "    discriminant = b**2 - 4*a*c\n",
    "    sqrt_value = math.sqrt(abs(discriminant))\n",
    "    try:\n",
    "        if discriminant > 0:\n",
    "            \n",
    "            print((-b + sqrt_value)/(2*a))\n",
    "            print((-b - sqrt_value)/(2*a))\n",
    "            print('Real and Different Roots')\n",
    "        elif discriminant == 0:\n",
    "            \n",
    "            print(-b / (2*a))\n",
    "            print(\" real and same roots\")\n",
    "        else:\n",
    "            \n",
    "            print(-b / (2*a), \" + i\", sqrt_value)\n",
    "            print(-b / (2*a), \" - i\", sqrt_value)\n",
    "            print(\"complex roots\")\n",
    "            \n",
    "    except Exception as e:\n",
    "        print(f'Value of a cannot be zero leads to {e}')\n",
    "\n",
    "   \n",
    "        \n"
   ]
  },
  {
   "cell_type": "code",
   "execution_count": 58,
   "id": "91e081d9",
   "metadata": {},
   "outputs": [
    {
     "name": "stdout",
     "output_type": "stream",
     "text": [
      "2.0\n",
      "-12.0\n",
      "Real and Different Roots\n"
     ]
    }
   ],
   "source": [
    "roots(1,10,-24)"
   ]
  },
  {
   "cell_type": "code",
   "execution_count": 51,
   "id": "c6defe77",
   "metadata": {},
   "outputs": [],
   "source": [
    "## 5. Write a Python program to swap two variables without temp variable?"
   ]
  },
  {
   "cell_type": "code",
   "execution_count": 56,
   "id": "830ec914",
   "metadata": {},
   "outputs": [
    {
     "name": "stdout",
     "output_type": "stream",
     "text": [
      " the value after swapping 30, 20\n",
      "the vale of a: 30\n",
      "the value of b: 20\n"
     ]
    }
   ],
   "source": [
    "a = 20\n",
    "b = 30\n",
    "a,b = b,a\n",
    "print(f' the value after swapping {a}, {b}')\n",
    "print (\"the vale of a:\", a)\n",
    "print(\"the value of b:\", b)"
   ]
  },
  {
   "cell_type": "code",
   "execution_count": null,
   "id": "ed3005ca",
   "metadata": {},
   "outputs": [],
   "source": []
  }
 ],
 "metadata": {
  "kernelspec": {
   "display_name": "Python 3",
   "language": "python",
   "name": "python3"
  },
  "language_info": {
   "codemirror_mode": {
    "name": "ipython",
    "version": 3
   },
   "file_extension": ".py",
   "mimetype": "text/x-python",
   "name": "python",
   "nbconvert_exporter": "python",
   "pygments_lexer": "ipython3",
   "version": "3.8.8"
  }
 },
 "nbformat": 4,
 "nbformat_minor": 5
}
