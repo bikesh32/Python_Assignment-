{
 "cells": [
  {
   "cell_type": "code",
   "execution_count": 1,
   "id": "f4280e1c",
   "metadata": {},
   "outputs": [
    {
     "name": "stdout",
     "output_type": "stream",
     "text": [
      "Object `Number` not found.\n",
      "Object `Table` not found.\n",
      "Object `sequence` not found.\n",
      "Object `Number` not found.\n",
      "Object `Interval` not found.\n",
      "Object `Numbers` not found.\n"
     ]
    }
   ],
   "source": [
    "1. Write a Python Program to Find the Factorial of a Number?\n",
    "2. Write a Python Program to Display the multiplication Table?\n",
    "3. Write a Python Program to Print the Fibonacci sequence?\n",
    "4. Write a Python Program to Check Armstrong Number?\n",
    "5. Write a Python Program to Find Armstrong Number in an Interval?\n",
    "6. Write a Python Program to Find the Sum of Natural Numbers?"
   ]
  },
  {
   "cell_type": "code",
   "execution_count": null,
   "id": "dfd808ef",
   "metadata": {},
   "outputs": [],
   "source": [
    "##1. Write a Python Program to Find the Factorial of a Number?"
   ]
  },
  {
   "cell_type": "code",
   "execution_count": 19,
   "id": "58c3c35a",
   "metadata": {},
   "outputs": [
    {
     "name": "stdout",
     "output_type": "stream",
     "text": [
      "enter the number10\n",
      "3628800\n"
     ]
    }
   ],
   "source": [
    "a = int(input('enter the number'))\n",
    "num=1\n",
    "while a>1:\n",
    "    num = num * a\n",
    "    a = a-1\n",
    "print(num)\n"
   ]
  },
  {
   "cell_type": "code",
   "execution_count": null,
   "id": "2cf89bf9",
   "metadata": {},
   "outputs": [],
   "source": [
    "#2. Write a Python Program to Display the multiplication Table?"
   ]
  },
  {
   "cell_type": "code",
   "execution_count": 25,
   "id": "f18abf6a",
   "metadata": {},
   "outputs": [
    {
     "name": "stdout",
     "output_type": "stream",
     "text": [
      "enter a number12\n",
      "12 * 1 = 12\n",
      "12 * 2 = 24\n",
      "12 * 3 = 36\n",
      "12 * 4 = 48\n",
      "12 * 5 = 60\n",
      "12 * 6 = 72\n",
      "12 * 7 = 84\n",
      "12 * 8 = 96\n",
      "12 * 9 = 108\n",
      "12 * 10 = 120\n"
     ]
    }
   ],
   "source": [
    "a = int(input('enter a number'))\n",
    "for i in range(1,11):\n",
    "    print(f'{a} * {i} = {a*i}')"
   ]
  },
  {
   "cell_type": "code",
   "execution_count": null,
   "id": "3097381d",
   "metadata": {},
   "outputs": [],
   "source": [
    "## 3. Write a Python Program to Print the Fibonacci sequence?"
   ]
  },
  {
   "cell_type": "code",
   "execution_count": 39,
   "id": "5828cabc",
   "metadata": {},
   "outputs": [
    {
     "name": "stdout",
     "output_type": "stream",
     "text": [
      "enter number6\n",
      "Print the Fibonacci sequence upto 6\n",
      "0\n",
      "1\n",
      "1\n",
      "2\n",
      "3\n",
      "5\n"
     ]
    }
   ],
   "source": [
    "n =int(input('enter number'))\n",
    "a = 0\n",
    "b = 1\n",
    "print (f'Print the Fibonacci sequence upto {n}')\n",
    "for i in range(n):\n",
    "    c = a+b\n",
    "    \n",
    "    print(a)\n",
    "    \n",
    "    a = b\n",
    "    b = c\n",
    "\n",
    "\n"
   ]
  },
  {
   "cell_type": "code",
   "execution_count": null,
   "id": "b259b9db",
   "metadata": {},
   "outputs": [],
   "source": [
    "##4. Write a Python Program to Check Armstrong Number?"
   ]
  },
  {
   "cell_type": "code",
   "execution_count": 19,
   "id": "ae41b4d5",
   "metadata": {},
   "outputs": [
    {
     "name": "stdout",
     "output_type": "stream",
     "text": [
      "enter the number1634\n",
      "1634\n",
      "it is a amstrong number\n"
     ]
    }
   ],
   "source": [
    "a=int(input('enter the number'))\n",
    "oder = len(str(a))\n",
    "a1 = a\n",
    "n1 = 0\n",
    "\n",
    "while a1>0:\n",
    "    b = a1%10\n",
    "    \n",
    "    n = b**oder\n",
    "    \n",
    "    n1 = n+n1\n",
    "    \n",
    "    a1 = a1//10\n",
    "print(n1) \n",
    "if a == n1:\n",
    "    print('it is a amstrong number')\n",
    "else:\n",
    "    print(' it is not a amstrong number')\n",
    "    "
   ]
  },
  {
   "cell_type": "code",
   "execution_count": null,
   "id": "fcaf0175",
   "metadata": {},
   "outputs": [],
   "source": [
    "##5. Write a Python Program to Find Armstrong Number in an Interval?"
   ]
  },
  {
   "cell_type": "code",
   "execution_count": 47,
   "id": "7d8c881a",
   "metadata": {},
   "outputs": [
    {
     "name": "stdout",
     "output_type": "stream",
     "text": [
      "enter the number9999\n",
      "[153, 370, 371, 407, 1634, 8208, 9474]\n"
     ]
    }
   ],
   "source": [
    "a=int(input('enter the number'))\n",
    "\n",
    "z = []\n",
    "\n",
    "\n",
    "for i in range(100,a):\n",
    "    oder = len(str(i))\n",
    "    a1 = i\n",
    "    n1 = 0\n",
    "    while a1>0:\n",
    "        b = a1%10\n",
    "\n",
    "        n = b**oder\n",
    "       \n",
    "        n1 = n+n1\n",
    "        \n",
    "\n",
    "        a1 = a1//10\n",
    "        \n",
    "    if (i == n1) and i!= (2,3,4,5,6,7,8,9,10):\n",
    "        #print(f'it is a amstrong number {i}')\n",
    "        z.append(n1)\n",
    "    \n",
    "print(z)   "
   ]
  },
  {
   "cell_type": "code",
   "execution_count": null,
   "id": "2e726cd8",
   "metadata": {},
   "outputs": [],
   "source": [
    "##6. Write a Python Program to Find the Sum of Natural Numbers?"
   ]
  },
  {
   "cell_type": "code",
   "execution_count": 54,
   "id": "f7d551ea",
   "metadata": {},
   "outputs": [
    {
     "name": "stdout",
     "output_type": "stream",
     "text": [
      "enter the number 9\n",
      " the sum of 9 natural number is 45\n"
     ]
    }
   ],
   "source": [
    "n=0\n",
    "a = int(input('enter the number '))\n",
    "for i in range(1,a+1):\n",
    "    n = n + i\n",
    "print(f' the sum of {a} natural number is {n}')"
   ]
  },
  {
   "cell_type": "code",
   "execution_count": null,
   "id": "4b2d889a",
   "metadata": {},
   "outputs": [],
   "source": []
  },
  {
   "cell_type": "code",
   "execution_count": null,
   "id": "e04e7c5b",
   "metadata": {},
   "outputs": [],
   "source": []
  },
  {
   "cell_type": "code",
   "execution_count": null,
   "id": "16cda730",
   "metadata": {},
   "outputs": [],
   "source": []
  },
  {
   "cell_type": "code",
   "execution_count": null,
   "id": "76f2735c",
   "metadata": {},
   "outputs": [],
   "source": []
  },
  {
   "cell_type": "code",
   "execution_count": null,
   "id": "a5721681",
   "metadata": {},
   "outputs": [],
   "source": []
  },
  {
   "cell_type": "code",
   "execution_count": null,
   "id": "3638ecc2",
   "metadata": {},
   "outputs": [],
   "source": []
  },
  {
   "cell_type": "code",
   "execution_count": null,
   "id": "0763f760",
   "metadata": {},
   "outputs": [],
   "source": []
  },
  {
   "cell_type": "code",
   "execution_count": null,
   "id": "35b4b5eb",
   "metadata": {},
   "outputs": [],
   "source": []
  },
  {
   "cell_type": "code",
   "execution_count": null,
   "id": "09874214",
   "metadata": {},
   "outputs": [],
   "source": []
  },
  {
   "cell_type": "code",
   "execution_count": null,
   "id": "b72c8a80",
   "metadata": {},
   "outputs": [],
   "source": []
  },
  {
   "cell_type": "code",
   "execution_count": null,
   "id": "20f2e324",
   "metadata": {},
   "outputs": [],
   "source": []
  },
  {
   "cell_type": "code",
   "execution_count": null,
   "id": "b161f77b",
   "metadata": {},
   "outputs": [],
   "source": []
  }
 ],
 "metadata": {
  "kernelspec": {
   "display_name": "Python 3",
   "language": "python",
   "name": "python3"
  },
  "language_info": {
   "codemirror_mode": {
    "name": "ipython",
    "version": 3
   },
   "file_extension": ".py",
   "mimetype": "text/x-python",
   "name": "python",
   "nbconvert_exporter": "python",
   "pygments_lexer": "ipython3",
   "version": "3.8.8"
  }
 },
 "nbformat": 4,
 "nbformat_minor": 5
}
