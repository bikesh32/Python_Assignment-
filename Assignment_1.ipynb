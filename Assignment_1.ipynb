{
 "cells": [
  {
   "cell_type": "code",
   "execution_count": null,
   "id": "e0084a88",
   "metadata": {},
   "outputs": [],
   "source": [
    "#1. In the below elements which of them are values or an expression? eg:- values can be\n",
    "#integer or string and expressions will be mathematical operators."
   ]
  },
  {
   "cell_type": "code",
   "execution_count": null,
   "id": "f569e6e9",
   "metadata": {},
   "outputs": [],
   "source": [
    "* --------- Expression\n",
    "'hello'---- Values\n",
    "-87.8------ Values\n",
    "-  -------- Expression\n",
    "/  -------- Expression\n",
    "+  -------- Expression\n",
    "6  -------- Values"
   ]
  },
  {
   "cell_type": "code",
   "execution_count": null,
   "id": "20b017a4",
   "metadata": {},
   "outputs": [],
   "source": [
    "# 2. What is the difference between string and variable?"
   ]
  },
  {
   "cell_type": "code",
   "execution_count": null,
   "id": "5165e633",
   "metadata": {},
   "outputs": [],
   "source": [
    "Variable -- A varible is something in which we can assign a value or store data in program, we can assume it .\n",
    "for ex --  a=10, here a is a varibale where we can assign value 10 to it.\n",
    "\n",
    "string --- is a type of data which can be stored in variables.It is a collection of one or more char enclosed in single \n",
    "           or double quote. Reprensented by str.\n",
    "\n",
    "for ex = \n",
    "a = \"welcome to India\"\n",
    "\n",
    "\"welcome to India\" is a string stored in varible in a."
   ]
  },
  {
   "cell_type": "code",
   "execution_count": null,
   "id": "4f605e5e",
   "metadata": {},
   "outputs": [],
   "source": [
    "3. Describe three different data types."
   ]
  },
  {
   "cell_type": "code",
   "execution_count": null,
   "id": "3ac4a548",
   "metadata": {},
   "outputs": [],
   "source": [
    "Numeric - it consists of int, float, complex numbers.\n",
    "\n",
    "Squence Type - it consists of strings,list, Tuple.\n",
    "\n",
    "Boolean -- it has only two values TRUE or FALSE.\n",
    "\n",
    "\n"
   ]
  },
  {
   "cell_type": "code",
   "execution_count": null,
   "id": "20039a97",
   "metadata": {},
   "outputs": [],
   "source": [
    "4. What is an expression made up of? What do all expressions do?"
   ]
  },
  {
   "cell_type": "code",
   "execution_count": null,
   "id": "7b6e2335",
   "metadata": {},
   "outputs": [],
   "source": [
    "An expression is made up of a combination of terms that are combined by using mathematical operations such as \n",
    "subtraction,division,addition, multiplication. \n",
    "Expression produce a value and that value will be passed into the function. "
   ]
  },
  {
   "cell_type": "code",
   "execution_count": null,
   "id": "c0bace7b",
   "metadata": {},
   "outputs": [],
   "source": [
    "5. This assignment statements, like spam = 10. What is the difference between an\n",
    "expression and a statement?"
   ]
  },
  {
   "cell_type": "code",
   "execution_count": null,
   "id": "cb000d0e",
   "metadata": {},
   "outputs": [],
   "source": [
    "AN Expression produce a value and that value will be passed into the function. \n",
    "A ststement is a standalone unit of execution and does not return anything on execution."
   ]
  },
  {
   "cell_type": "code",
   "execution_count": null,
   "id": "72d38e08",
   "metadata": {},
   "outputs": [],
   "source": [
    "6. After running the following code, what does the variable bacon contain?\n",
    "bacon = 22\n",
    "bacon + 1"
   ]
  },
  {
   "cell_type": "code",
   "execution_count": null,
   "id": "30b3086c",
   "metadata": {},
   "outputs": [],
   "source": [
    "After runing the following code the varible bacon contains value of 23/"
   ]
  },
  {
   "cell_type": "code",
   "execution_count": null,
   "id": "dcaa897a",
   "metadata": {},
   "outputs": [],
   "source": [
    "7. What should the values of the following two terms be?\n",
    "\"spam\" + \"spamspam\";\n",
    "\"spam\"; * 3"
   ]
  },
  {
   "cell_type": "code",
   "execution_count": null,
   "id": "cc6668a5",
   "metadata": {},
   "outputs": [],
   "source": [
    "1.  \"spamspamspam\"\n",
    "2.  \"spamspamspam\""
   ]
  },
  {
   "cell_type": "code",
   "execution_count": null,
   "id": "9737ce1e",
   "metadata": {},
   "outputs": [],
   "source": [
    "8. Why is eggs a valid variable name while 100 is invalid?\n"
   ]
  },
  {
   "cell_type": "code",
   "execution_count": null,
   "id": "77c1f520",
   "metadata": {},
   "outputs": [],
   "source": [
    "Because int and special character cannot be used as a variable name in python."
   ]
  },
  {
   "cell_type": "code",
   "execution_count": null,
   "id": "97d3e52b",
   "metadata": {},
   "outputs": [],
   "source": [
    "9. What three functions can be used to get the integer, floating-point number, or string\n",
    "version of a value?"
   ]
  },
  {
   "cell_type": "code",
   "execution_count": null,
   "id": "1591e715",
   "metadata": {},
   "outputs": [],
   "source": [
    "for integer -- int()\n",
    "\n",
    "for floating-point number --- float()\n",
    "\n",
    "for string -------- str()"
   ]
  },
  {
   "cell_type": "code",
   "execution_count": null,
   "id": "4663aa8d",
   "metadata": {},
   "outputs": [],
   "source": [
    "10. Why does this expression cause an error? How can you fix it?\n",
    "\"I have eaten\" + 99 +  \"burritos.\""
   ]
  },
  {
   "cell_type": "code",
   "execution_count": null,
   "id": "95922e26",
   "metadata": {},
   "outputs": [],
   "source": [
    "A string value can not be added to int value and vice versa, so i have to use str(99) to convert \n",
    "the data type of 99 from int to string."
   ]
  }
 ],
 "metadata": {
  "kernelspec": {
   "display_name": "Python 3",
   "language": "python",
   "name": "python3"
  },
  "language_info": {
   "codemirror_mode": {
    "name": "ipython",
    "version": 3
   },
   "file_extension": ".py",
   "mimetype": "text/x-python",
   "name": "python",
   "nbconvert_exporter": "python",
   "pygments_lexer": "ipython3",
   "version": "3.8.8"
  }
 },
 "nbformat": 4,
 "nbformat_minor": 5
}
