{
 "cells": [
  {
   "cell_type": "code",
   "execution_count": null,
   "id": "fadfa736",
   "metadata": {},
   "outputs": [],
   "source": [
    "#1. Write a Python program to print \"Hello Python\"?\n",
    "#2. Write a Python program to do arithmetical operations addition and division.?\n",
    "#3. Write a Python program to find the area of a triangle?\n",
    "#4. Write a Python program to swap two variables?\n",
    "#5. Write a Python program to generate a random number?"
   ]
  },
  {
   "cell_type": "code",
   "execution_count": null,
   "id": "8087dd71",
   "metadata": {},
   "outputs": [],
   "source": [
    "#1. Write a Python program to print \"Hello Python\"?"
   ]
  },
  {
   "cell_type": "code",
   "execution_count": 2,
   "id": "e854c98a",
   "metadata": {},
   "outputs": [
    {
     "name": "stdout",
     "output_type": "stream",
     "text": [
      "Hello Python\n"
     ]
    }
   ],
   "source": [
    "a = \"Hello Python\"\n",
    "print(a)"
   ]
  },
  {
   "cell_type": "code",
   "execution_count": null,
   "id": "800e4952",
   "metadata": {},
   "outputs": [],
   "source": [
    "#2. Write a Python program to do arithmetical operations addition and division.?"
   ]
  },
  {
   "cell_type": "code",
   "execution_count": 3,
   "id": "e09aabd9",
   "metadata": {},
   "outputs": [
    {
     "name": "stdout",
     "output_type": "stream",
     "text": [
      "enter a number8\n",
      "enter a number3\n",
      "Addition result: 11\n",
      "Division result: 2.6666666666666665\n"
     ]
    }
   ],
   "source": [
    "a = int(input(\"enter a number\"))\n",
    "b = int(input(\"enter a number\"))\n",
    "\n",
    "c = a+b\n",
    "d = a/b\n",
    "\n",
    "print(\"Addition result:\", c)\n",
    "print(\"Division result:\" , d)"
   ]
  },
  {
   "cell_type": "code",
   "execution_count": null,
   "id": "30b9b996",
   "metadata": {},
   "outputs": [],
   "source": [
    "#3. Write a Python program to find the area of a triangle?"
   ]
  },
  {
   "cell_type": "code",
   "execution_count": 5,
   "id": "a5fcc87a",
   "metadata": {},
   "outputs": [
    {
     "name": "stdout",
     "output_type": "stream",
     "text": [
      "enter the base: 6\n",
      "enter the height: 9\n",
      "Area of triangle : 0.3333333333333333\n"
     ]
    }
   ],
   "source": [
    "b = int(input(\"enter the base: \"))\n",
    "h = int(input(\"enter the height: \"))\n",
    "\n",
    "a = ((b/h)/2)\n",
    "\n",
    "print(\"Area of triangle :\", a)"
   ]
  },
  {
   "cell_type": "code",
   "execution_count": 6,
   "id": "4d78d1f8",
   "metadata": {},
   "outputs": [],
   "source": [
    "##Write a Python program to swap two variables?"
   ]
  },
  {
   "cell_type": "code",
   "execution_count": 10,
   "id": "3a3a158a",
   "metadata": {},
   "outputs": [
    {
     "name": "stdout",
     "output_type": "stream",
     "text": [
      "the vale of a: 20\n",
      "the value of b: 10\n"
     ]
    }
   ],
   "source": [
    "a = 10\n",
    "b = 20\n",
    "\n",
    "c = a\n",
    "a = b\n",
    "b = c\n",
    "\n",
    "print (\"the vale of a:\", a)\n",
    "print(\"the value of b:\", b)"
   ]
  },
  {
   "cell_type": "code",
   "execution_count": 11,
   "id": "faf82bb3",
   "metadata": {},
   "outputs": [
    {
     "name": "stdout",
     "output_type": "stream",
     "text": [
      "the vale of a: 20\n",
      "the value of b: 10\n"
     ]
    }
   ],
   "source": [
    "##Write a Python program to swap two variables?\n",
    "a = 10\n",
    "b = 20\n",
    "\n",
    "a,b = b,a\n",
    "print (\"the vale of a:\", a)\n",
    "print(\"the value of b:\", b)\n"
   ]
  },
  {
   "cell_type": "code",
   "execution_count": 95,
   "id": "1de71049",
   "metadata": {},
   "outputs": [
    {
     "data": {
      "text/plain": [
       "0.4991784783693607"
      ]
     },
     "execution_count": 95,
     "metadata": {},
     "output_type": "execute_result"
    }
   ],
   "source": [
    "## Write a Python program to generate a random number?\n",
    "import random\n",
    "\n",
    "a = random.random()\n",
    "a\n",
    "\n",
    "\n"
   ]
  },
  {
   "cell_type": "code",
   "execution_count": null,
   "id": "d1aaf184",
   "metadata": {},
   "outputs": [],
   "source": []
  },
  {
   "cell_type": "code",
   "execution_count": null,
   "id": "7a5610cb",
   "metadata": {},
   "outputs": [],
   "source": []
  },
  {
   "cell_type": "code",
   "execution_count": null,
   "id": "ca62c42a",
   "metadata": {},
   "outputs": [],
   "source": []
  }
 ],
 "metadata": {
  "kernelspec": {
   "display_name": "Python 3",
   "language": "python",
   "name": "python3"
  },
  "language_info": {
   "codemirror_mode": {
    "name": "ipython",
    "version": 3
   },
   "file_extension": ".py",
   "mimetype": "text/x-python",
   "name": "python",
   "nbconvert_exporter": "python",
   "pygments_lexer": "ipython3",
   "version": "3.8.8"
  }
 },
 "nbformat": 4,
 "nbformat_minor": 5
}
