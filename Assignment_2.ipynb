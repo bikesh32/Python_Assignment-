{
 "cells": [
  {
   "cell_type": "code",
   "execution_count": null,
   "id": "1b643d4c",
   "metadata": {},
   "outputs": [],
   "source": [
    "1.What are the two values of the Boolean data type? How do you write them?"
   ]
  },
  {
   "cell_type": "code",
   "execution_count": null,
   "id": "15101cc1",
   "metadata": {},
   "outputs": [],
   "source": [
    "The two values of boolean types are TRUE and False.\n",
    "The Boolean or operator returns True if any one of the inputs is True else returns False"
   ]
  },
  {
   "cell_type": "code",
   "execution_count": null,
   "id": "29da574e",
   "metadata": {},
   "outputs": [],
   "source": [
    "2. What are the three different types of Boolean operators?"
   ]
  },
  {
   "cell_type": "code",
   "execution_count": null,
   "id": "d9f5f873",
   "metadata": {},
   "outputs": [],
   "source": [
    "types of boolean operator \n",
    "\n",
    "AND, OR, NOT, and AND NOT.\n"
   ]
  },
  {
   "cell_type": "code",
   "execution_count": null,
   "id": "069d1eba",
   "metadata": {},
   "outputs": [],
   "source": [
    "3. Make a list of each Boolean operator's truth tables (i.e. every possible combination of Boolean\n",
    "values for the operator and what it evaluate )."
   ]
  },
  {
   "cell_type": "code",
   "execution_count": null,
   "id": "6038462b",
   "metadata": {},
   "outputs": [],
   "source": [
    "                       NOT X      ( X && Y )      X OR Y\n",
    "X          Y          ( ~ X )      X AND Y     ( X || Y )\n",
    "false   \tfalse    \ttrue    \tfalse   \tfalse\n",
    "false    \ttrue     \ttrue    \tfalse   \ttrue\n",
    "true    \tfalse    \tfalse    \tfalse   \ttrue\n",
    "true    \ttrue     \tfalse    \ttrue    \ttrue\n"
   ]
  },
  {
   "cell_type": "code",
   "execution_count": null,
   "id": "3747dbda",
   "metadata": {},
   "outputs": [],
   "source": [
    "4. What are the values of the following expressions?\n",
    "\n",
    "print((5>4) and (3==5))\n",
    "False\n",
    "\n",
    "print(not(5>4))\n",
    "False\n",
    "\n",
    "print((5>4) or (3==5))\n",
    "True\n",
    "\n",
    "print(not(5>4) or (3==5))\n",
    "False\n",
    "\n",
    "print((True and True) and (True==False))\n",
    "False\n",
    "\n",
    "print((not(False))or(not(True)))\n",
    "\n",
    "True"
   ]
  },
  {
   "cell_type": "code",
   "execution_count": null,
   "id": "2bd69133",
   "metadata": {},
   "outputs": [],
   "source": [
    "5. What are the six comparison operators?"
   ]
  },
  {
   "cell_type": "code",
   "execution_count": null,
   "id": "1c01b50b",
   "metadata": {},
   "outputs": [],
   "source": [
    "The Six comparison operators are\n",
    "\n",
    "1. Less than <\n",
    "2. Greater than > \n",
    "3. Less than or equal to <= \n",
    "4. Greater than or equal to >= \n",
    "5. Equal to = \n",
    "6. Not equal to != "
   ]
  },
  {
   "cell_type": "code",
   "execution_count": null,
   "id": "8a743557",
   "metadata": {},
   "outputs": [],
   "source": [
    "6. How do you tell the difference between the equal to and assignment operators?Describe a\n",
    "condition and when you would use one."
   ]
  },
  {
   "cell_type": "code",
   "execution_count": null,
   "id": "38547940",
   "metadata": {},
   "outputs": [],
   "source": [
    "Equal to is used to compare a value and assignment operator is used to assign a value in to variables.\n",
    "\n",
    "ex---- \n",
    "a=10\n",
    "if a==10:\n",
    "    print(\"yes the value of a is 10\")\n",
    "    \n",
    "ex of assignment\n",
    "\n",
    "a=10, here the empty variable a is assign with value of 10."
   ]
  },
  {
   "cell_type": "code",
   "execution_count": null,
   "id": "d7bd1685",
   "metadata": {},
   "outputs": [],
   "source": [
    "7. Identify the three blocks in this code:\n",
    "spam = 0\n",
    "if spam == 10:\n",
    "    print('eggs') #Block 1\n",
    "if spam > 5:\n",
    "    print('bacon') #Block 2\n",
    "else:\n",
    "    print('ham') #Block 3\n",
    "    print('spam')\n",
    "    print('spam')\n"
   ]
  },
  {
   "cell_type": "code",
   "execution_count": null,
   "id": "8cd2f419",
   "metadata": {},
   "outputs": [],
   "source": [
    "ham\n",
    "spam\n",
    "spam"
   ]
  },
  {
   "cell_type": "code",
   "execution_count": null,
   "id": "a081a7a0",
   "metadata": {},
   "outputs": [],
   "source": [
    "8. Write code that prints Hello if 1 is stored in spam, prints Howdy if 2 is stored in spam, and prints\n",
    "Greetings! if anything else is stored in spam."
   ]
  },
  {
   "cell_type": "code",
   "execution_count": 5,
   "id": "0401119c",
   "metadata": {},
   "outputs": [
    {
     "name": "stdout",
     "output_type": "stream",
     "text": [
      "65\n",
      "Greetings!\n"
     ]
    }
   ],
   "source": [
    "spam = int(input())\n",
    "if spam==1:\n",
    "    print(\"Hello\")\n",
    "elif spam == 2:\n",
    "    print(\"Howdy\")\n",
    "else:\n",
    "    print(\"Greetings!\")"
   ]
  },
  {
   "cell_type": "code",
   "execution_count": null,
   "id": "b336b0ce",
   "metadata": {},
   "outputs": [],
   "source": [
    "9.If your programme is stuck in an endless loop, what keys you’ll press?"
   ]
  },
  {
   "cell_type": "code",
   "execution_count": null,
   "id": "83c0762b",
   "metadata": {},
   "outputs": [],
   "source": [
    "You can stop an endless loop with CTRL + C"
   ]
  },
  {
   "cell_type": "code",
   "execution_count": null,
   "id": "9e6fd1cc",
   "metadata": {},
   "outputs": [],
   "source": [
    "10. How can you tell the difference between break and continue?"
   ]
  },
  {
   "cell_type": "code",
   "execution_count": null,
   "id": "dde0f550",
   "metadata": {},
   "outputs": [],
   "source": [
    "Break when call it terminates the loop where it is called and passes the control to main body,\n",
    "While Continue keyword skips the current iteration and executes the next iteration in the loop. "
   ]
  },
  {
   "cell_type": "code",
   "execution_count": 11,
   "id": "c95a86f6",
   "metadata": {},
   "outputs": [
    {
     "name": "stdout",
     "output_type": "stream",
     "text": [
      "0\n",
      "1\n",
      "2\n",
      "3\n",
      "4\n"
     ]
    }
   ],
   "source": [
    "for i in range(10):\n",
    "    if (i==5):\n",
    "         break\n",
    "    print(i)\n",
    "       "
   ]
  },
  {
   "cell_type": "code",
   "execution_count": 12,
   "id": "b3cdc07a",
   "metadata": {},
   "outputs": [
    {
     "name": "stdout",
     "output_type": "stream",
     "text": [
      "0\n",
      "1\n",
      "2\n",
      "3\n",
      "4\n",
      "6\n",
      "7\n",
      "8\n",
      "9\n"
     ]
    }
   ],
   "source": [
    "for i in range(10):\n",
    "    if (i==5):\n",
    "         continue\n",
    "    print(i)\n",
    "       "
   ]
  },
  {
   "cell_type": "code",
   "execution_count": null,
   "id": "36986354",
   "metadata": {},
   "outputs": [],
   "source": [
    "11. In a for loop, what is the difference between range(10), range(0, 10), and range(0, 10, 1)?"
   ]
  },
  {
   "cell_type": "code",
   "execution_count": 9,
   "id": "ce2f7e5a",
   "metadata": {},
   "outputs": [],
   "source": [
    "The first two are same as they will loop from 0 to 9 excluding the value 10, and in last one step value is called \n",
    "that is it will jump to 1 value while looping."
   ]
  },
  {
   "cell_type": "code",
   "execution_count": 14,
   "id": "39f6e81c",
   "metadata": {},
   "outputs": [
    {
     "data": {
      "text/plain": [
       "[0, 2, 4, 6, 8]"
      ]
     },
     "execution_count": 14,
     "metadata": {},
     "output_type": "execute_result"
    }
   ],
   "source": [
    "list(range(0, 10, 2))"
   ]
  },
  {
   "cell_type": "code",
   "execution_count": null,
   "id": "b42fc94e",
   "metadata": {},
   "outputs": [],
   "source": [
    "12. Write a short program that prints the numbers 1 to 10 using a for loop. Then write an equivalent\n",
    "program that prints the numbers 1 to 10 using a while loop."
   ]
  },
  {
   "cell_type": "code",
   "execution_count": 16,
   "id": "e5946850",
   "metadata": {},
   "outputs": [
    {
     "name": "stdout",
     "output_type": "stream",
     "text": [
      "1\n",
      "2\n",
      "3\n",
      "4\n",
      "5\n",
      "6\n",
      "7\n",
      "8\n",
      "9\n",
      "10\n"
     ]
    }
   ],
   "source": [
    "for i in range(1,11):\n",
    "    print(i)"
   ]
  },
  {
   "cell_type": "code",
   "execution_count": 23,
   "id": "e2c48dd1",
   "metadata": {},
   "outputs": [
    {
     "name": "stdout",
     "output_type": "stream",
     "text": [
      "1\n",
      "2\n",
      "3\n",
      "4\n",
      "5\n",
      "6\n",
      "7\n",
      "8\n",
      "9\n",
      "10\n"
     ]
    }
   ],
   "source": [
    "a=1\n",
    "while a<=10:\n",
    "    print(a)\n",
    "    a=a+1"
   ]
  },
  {
   "cell_type": "code",
   "execution_count": null,
   "id": "64390782",
   "metadata": {},
   "outputs": [],
   "source": [
    "13. If you had a function named bacon() inside a module named spam, how would you call it after\n",
    "importing spam?"
   ]
  },
  {
   "cell_type": "code",
   "execution_count": null,
   "id": "b5184201",
   "metadata": {},
   "outputs": [],
   "source": [
    "spam.bacon"
   ]
  }
 ],
 "metadata": {
  "kernelspec": {
   "display_name": "Python 3",
   "language": "python",
   "name": "python3"
  },
  "language_info": {
   "codemirror_mode": {
    "name": "ipython",
    "version": 3
   },
   "file_extension": ".py",
   "mimetype": "text/x-python",
   "name": "python",
   "nbconvert_exporter": "python",
   "pygments_lexer": "ipython3",
   "version": "3.8.8"
  }
 },
 "nbformat": 4,
 "nbformat_minor": 5
}
